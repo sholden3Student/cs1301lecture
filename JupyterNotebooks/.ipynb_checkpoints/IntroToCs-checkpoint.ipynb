{
 "cells": [
  {
   "cell_type": "markdown",
   "id": "876c50ca-359a-47b1-b5f5-c905a24d4a39",
   "metadata": {},
   "source": [
    "# Intro to cs via Python"
   ]
  },
  {
   "cell_type": "markdown",
   "id": "ac78f319-2561-43f5-ac4d-49abcb723285",
   "metadata": {},
   "source": [
    "Semantic form of variable expression.\n",
    "\n",
    "```[Variable Name] = [Value]```\n",
    "\n",
    "Remember within python we have a wrapper (boxing) of value around global object, therefore types are not statically typed."
   ]
  },
  {
   "cell_type": "code",
   "execution_count": 4,
   "id": "dd29ad52-e124-44ed-a798-f1eda534f89b",
   "metadata": {},
   "outputs": [
    {
     "data": {
      "text/plain": [
       "24"
      ]
     },
     "execution_count": 4,
     "metadata": {},
     "output_type": "execute_result"
    }
   ],
   "source": [
    "# Here we assing a value of 24 to celesius, which than wraps (obj Boxing) with an object.\n",
    "degree_celcius = 24\n",
    "degree_celcius"
   ]
  },
  {
   "cell_type": "code",
   "execution_count": 2,
   "id": "5e8e9628-055a-4b1c-99dd-5b1078c15191",
   "metadata": {},
   "outputs": [
    {
     "data": {
      "text/plain": [
       "int"
      ]
     },
     "execution_count": 2,
     "metadata": {},
     "output_type": "execute_result"
    }
   ],
   "source": [
    "# Here we inspect the object type and see that it is considered an int\n",
    "type(degree_celcius)"
   ]
  },
  {
   "cell_type": "code",
   "execution_count": 3,
   "id": "6d142ae8-1025-4b58-a191-e6e23ae4be65",
   "metadata": {},
   "outputs": [
    {
     "data": {
      "text/plain": [
       "['__abs__',\n",
       " '__add__',\n",
       " '__and__',\n",
       " '__bool__',\n",
       " '__ceil__',\n",
       " '__class__',\n",
       " '__delattr__',\n",
       " '__dir__',\n",
       " '__divmod__',\n",
       " '__doc__',\n",
       " '__eq__',\n",
       " '__float__',\n",
       " '__floor__',\n",
       " '__floordiv__',\n",
       " '__format__',\n",
       " '__ge__',\n",
       " '__getattribute__',\n",
       " '__getnewargs__',\n",
       " '__getstate__',\n",
       " '__gt__',\n",
       " '__hash__',\n",
       " '__index__',\n",
       " '__init__',\n",
       " '__init_subclass__',\n",
       " '__int__',\n",
       " '__invert__',\n",
       " '__le__',\n",
       " '__lshift__',\n",
       " '__lt__',\n",
       " '__mod__',\n",
       " '__mul__',\n",
       " '__ne__',\n",
       " '__neg__',\n",
       " '__new__',\n",
       " '__or__',\n",
       " '__pos__',\n",
       " '__pow__',\n",
       " '__radd__',\n",
       " '__rand__',\n",
       " '__rdivmod__',\n",
       " '__reduce__',\n",
       " '__reduce_ex__',\n",
       " '__repr__',\n",
       " '__rfloordiv__',\n",
       " '__rlshift__',\n",
       " '__rmod__',\n",
       " '__rmul__',\n",
       " '__ror__',\n",
       " '__round__',\n",
       " '__rpow__',\n",
       " '__rrshift__',\n",
       " '__rshift__',\n",
       " '__rsub__',\n",
       " '__rtruediv__',\n",
       " '__rxor__',\n",
       " '__setattr__',\n",
       " '__sizeof__',\n",
       " '__str__',\n",
       " '__sub__',\n",
       " '__subclasshook__',\n",
       " '__truediv__',\n",
       " '__trunc__',\n",
       " '__xor__',\n",
       " 'as_integer_ratio',\n",
       " 'bit_count',\n",
       " 'bit_length',\n",
       " 'conjugate',\n",
       " 'denominator',\n",
       " 'from_bytes',\n",
       " 'imag',\n",
       " 'numerator',\n",
       " 'real',\n",
       " 'to_bytes']"
      ]
     },
     "execution_count": 3,
     "metadata": {},
     "output_type": "execute_result"
    }
   ],
   "source": [
    "# But here we can see the object wrapping that makes this a complex object, not a simple type\n",
    "dir(degree_celcius)"
   ]
  },
  {
   "cell_type": "code",
   "execution_count": 15,
   "id": "aef6a524-f9f4-4598-9fc4-ca5f56bae6a3",
   "metadata": {},
   "outputs": [],
   "source": [
    "def QuickPrintValueSimple(value: str) -> str:\n",
    "    print(f\"Values is: {value}\")"
   ]
  },
  {
   "cell_type": "code",
   "execution_count": 16,
   "id": "3d6b34c0-405a-40c9-9660-adb3aead5308",
   "metadata": {},
   "outputs": [
    {
     "name": "stdout",
     "output_type": "stream",
     "text": [
      "Current degree celsius: 24\n",
      "Current degree celsius: 24\n",
      "Current degree celsius: 24\n"
     ]
    }
   ],
   "source": [
    "# Different forms of string interpolation\n",
    "print(\"Current degree celsius: %s\" % (degree_celcius))\n",
    "print(\"Current degree celsius: {0}\".format(degree_celcius))\n",
    "print(f\"Current degree celsius: {degree_celcius}\")"
   ]
  },
  {
   "cell_type": "code",
   "execution_count": 17,
   "id": "33ab69f3-2a20-464a-b9fe-9a7cd2651500",
   "metadata": {},
   "outputs": [],
   "source": [
    "# Now let us replace the value of degree_celsius and than copy another value to it as well\n",
    "# Remember because it is a \"simple\" type, aka non class or collection, it will copy without the need\n",
    "# to do a deep copy.\n",
    "degree_celsius = 18\n",
    "degree_fahrenheit = (degree_celcius * 1.8) + 32"
   ]
  },
  {
   "cell_type": "code",
   "execution_count": 18,
   "id": "89329fa8-39af-4675-8f5b-3a093f05ca3e",
   "metadata": {},
   "outputs": [
    {
     "name": "stdout",
     "output_type": "stream",
     "text": [
      "Values is: 75.2\n"
     ]
    }
   ],
   "source": [
    "QuickPrintValueSimple(degree_fahrenheit)"
   ]
  },
  {
   "cell_type": "code",
   "execution_count": null,
   "id": "a79ffe97-f319-49d5-a22f-cba903231b0a",
   "metadata": {},
   "outputs": [],
   "source": []
  }
 ],
 "metadata": {
  "kernelspec": {
   "display_name": "Python 3 (ipykernel)",
   "language": "python",
   "name": "python3"
  },
  "language_info": {
   "codemirror_mode": {
    "name": "ipython",
    "version": 3
   },
   "file_extension": ".py",
   "mimetype": "text/x-python",
   "name": "python",
   "nbconvert_exporter": "python",
   "pygments_lexer": "ipython3",
   "version": "3.11.9"
  }
 },
 "nbformat": 4,
 "nbformat_minor": 5
}
