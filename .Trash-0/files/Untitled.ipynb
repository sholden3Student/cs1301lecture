{
 "cells": [
  {
   "cell_type": "markdown",
   "id": "876c50ca-359a-47b1-b5f5-c905a24d4a39",
   "metadata": {},
   "source": [
    "# Intro to cs via Python"
   ]
  },
  {
   "cell_type": "code",
   "execution_count": null,
   "id": "e8aebbdd-e514-4fe0-a7a2-b208a3f5ea03",
   "metadata": {},
   "outputs": [],
   "source": []
  }
 ],
 "metadata": {
  "kernelspec": {
   "display_name": "Python 3 (ipykernel)",
   "language": "python",
   "name": "python3"
  },
  "language_info": {
   "codemirror_mode": {
    "name": "ipython",
    "version": 3
   },
   "file_extension": ".py",
   "mimetype": "text/x-python",
   "name": "python",
   "nbconvert_exporter": "python",
   "pygments_lexer": "ipython3",
   "version": "3.11.9"
  }
 },
 "nbformat": 4,
 "nbformat_minor": 5
}
